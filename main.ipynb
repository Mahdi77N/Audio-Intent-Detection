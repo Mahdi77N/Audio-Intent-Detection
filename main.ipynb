{
 "cells": [
  {
   "cell_type": "code",
   "execution_count": null,
   "metadata": {},
   "outputs": [],
   "source": [
    "import librosa\n",
    "import pandas as pd"
   ]
  },
  {
   "cell_type": "code",
   "execution_count": 1,
   "metadata": {},
   "outputs": [],
   "source": [
    "def read_data(csv_path=\"./dsl_data/development.csv\"):\n",
    "    \"\"\"Read the data, based on the \"development.csv\" file. it will read the audio files, and return two pandas dataFrame, x and y.\n",
    "       it will not normalize the data. also will not change the data to categorical.\n",
    "\n",
    "    Args:\n",
    "        csv_path (str, optional): path to the \"development.csv\" file. Defaults to \"./dsl_data/development.csv\".\n",
    "\n",
    "    Returns:\n",
    "        pandas dataFrame: the x has all the features, excluding \"path\", \"action\", \"object\" and \"Id\".\n",
    "        the y has \"action\", \"object\", and \"intention\" which is a new feature by adding the other two columns.\n",
    "    \"\"\"\n",
    "\n",
    "    development_pd = pd.read_csv(csv_path)  # .drop([\"Id\"], axis=1)\n",
    "    development_pd[\"Signal\"] = \"\"\n",
    "\n",
    "    for index, row in development_pd.iterrows():\n",
    "        wave, srr = librosa.load(row[\"path\"], mono=True, sr=None)\n",
    "        development_pd.at[index, \"Signal\"] = wave\n",
    "\n",
    "    x = development_pd.drop([\"Id\", \"action\", \"object\", \"path\"], axis=1)\n",
    "    y = development_pd[[\"action\", \"object\"]]\n",
    "    y[\"intention\"] = development_pd[\"action\"] + development_pd[\"object\"]\n",
    "\n",
    "    return x, y"
   ]
  },
  {
   "cell_type": "code",
   "execution_count": null,
   "metadata": {},
   "outputs": [],
   "source": [
    "\n",
    "X, Y = read_data()"
   ]
  }
 ],
 "metadata": {
  "kernelspec": {
   "display_name": "venv",
   "language": "python",
   "name": "python3"
  },
  "language_info": {
   "codemirror_mode": {
    "name": "ipython",
    "version": 3
   },
   "file_extension": ".py",
   "mimetype": "text/x-python",
   "name": "python",
   "nbconvert_exporter": "python",
   "pygments_lexer": "ipython3",
   "version": "3.10.7 (tags/v3.10.7:6cc6b13, Sep  5 2022, 14:08:36) [MSC v.1933 64 bit (AMD64)]"
  },
  "orig_nbformat": 4,
  "vscode": {
   "interpreter": {
    "hash": "c663c866a1fb96859a8987df8dcaf456bb4d601a775f22c0ae8b5e612b0ffc21"
   }
  }
 },
 "nbformat": 4,
 "nbformat_minor": 2
}
